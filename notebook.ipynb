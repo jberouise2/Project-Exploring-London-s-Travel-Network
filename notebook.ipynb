{
 "cells": [
  {
   "cell_type": "code",
   "execution_count": 43,
   "id": "8d9fea80-b22f-4b79-aa93-1fb581d04b12",
   "metadata": {
    "customType": "sql",
    "dataFrameVariableName": "most_popular_transport_types",
    "executionCancelledAt": null,
    "executionTime": 2973,
    "lastExecutedAt": 1715325958365,
    "lastExecutedByKernel": "eb47b8d9-9f87-4dd2-a682-b5892212a28c",
    "lastScheduledRunId": null,
    "lastSuccessfullyExecutedCode": "-- most_popular_transport_types\nSELECT JOURNEY_TYPE, SUM(JOURNEYS_MILLIONS) AS TOTAL_JOURNEYS_MILLIONS\nFROM TFL.JOURNEYS\nGROUP BY ALL\nORDER BY TOTAL_JOURNEYS_MILLIONS DESC;\n ",
    "outputsMetadata": {
     "0": {
      "height": 250,
      "type": "dataFrame"
     }
    },
    "sqlCellMode": "dataFrame",
    "sqlSource": {
     "integrationId": "e0c96696-ae0a-46fb-b6f9-1a43eb428ecb",
     "type": "integration"
    }
   },
   "outputs": [
    {
     "data": {
      "application/com.datacamp.data-table.v2+json": {
       "table": {
        "data": {
         "JOURNEY_TYPE": [
          "Bus",
          "Underground & DLR",
          "Overground",
          "TfL Rail",
          "Tram",
          "Emirates Airline"
         ],
         "TOTAL_JOURNEYS_MILLIONS": [
          24905.19394699,
          15020.466543504,
          1666.8456664279,
          411.3134209833,
          314.6898754821,
          14.5837175749
         ],
         "index": [
          0,
          1,
          2,
          3,
          4,
          5
         ]
        },
        "schema": {
         "fields": [
          {
           "name": "index",
           "type": "integer"
          },
          {
           "name": "JOURNEY_TYPE",
           "type": "string"
          },
          {
           "name": "TOTAL_JOURNEYS_MILLIONS",
           "type": "number"
          }
         ],
         "pandas_version": "1.4.0",
         "primaryKey": [
          "index"
         ]
        }
       },
       "total_rows": 6,
       "truncation_type": null
      },
      "text/html": [
       "<div>\n",
       "<style scoped>\n",
       "    .dataframe tbody tr th:only-of-type {\n",
       "        vertical-align: middle;\n",
       "    }\n",
       "\n",
       "    .dataframe tbody tr th {\n",
       "        vertical-align: top;\n",
       "    }\n",
       "\n",
       "    .dataframe thead th {\n",
       "        text-align: right;\n",
       "    }\n",
       "</style>\n",
       "<table border=\"1\" class=\"dataframe\">\n",
       "  <thead>\n",
       "    <tr style=\"text-align: right;\">\n",
       "      <th></th>\n",
       "      <th>JOURNEY_TYPE</th>\n",
       "      <th>TOTAL_JOURNEYS_MILLIONS</th>\n",
       "    </tr>\n",
       "  </thead>\n",
       "  <tbody>\n",
       "    <tr>\n",
       "      <th>0</th>\n",
       "      <td>Bus</td>\n",
       "      <td>24905.193947</td>\n",
       "    </tr>\n",
       "    <tr>\n",
       "      <th>1</th>\n",
       "      <td>Underground &amp; DLR</td>\n",
       "      <td>15020.466544</td>\n",
       "    </tr>\n",
       "    <tr>\n",
       "      <th>2</th>\n",
       "      <td>Overground</td>\n",
       "      <td>1666.845666</td>\n",
       "    </tr>\n",
       "    <tr>\n",
       "      <th>3</th>\n",
       "      <td>TfL Rail</td>\n",
       "      <td>411.313421</td>\n",
       "    </tr>\n",
       "    <tr>\n",
       "      <th>4</th>\n",
       "      <td>Tram</td>\n",
       "      <td>314.689875</td>\n",
       "    </tr>\n",
       "    <tr>\n",
       "      <th>5</th>\n",
       "      <td>Emirates Airline</td>\n",
       "      <td>14.583718</td>\n",
       "    </tr>\n",
       "  </tbody>\n",
       "</table>\n",
       "</div>"
      ],
      "text/plain": [
       "        JOURNEY_TYPE  TOTAL_JOURNEYS_MILLIONS\n",
       "0                Bus             24905.193947\n",
       "1  Underground & DLR             15020.466544\n",
       "2         Overground              1666.845666\n",
       "3           TfL Rail               411.313421\n",
       "4               Tram               314.689875\n",
       "5   Emirates Airline                14.583718"
      ]
     },
     "execution_count": 43,
     "metadata": {},
     "output_type": "execute_result"
    }
   ],
   "source": [
    "-- most_popular_transport_types\n",
    "SELECT JOURNEY_TYPE, SUM(JOURNEYS_MILLIONS) AS TOTAL_JOURNEYS_MILLIONS\n",
    "FROM TFL.JOURNEYS\n",
    "GROUP BY ALL\n",
    "ORDER BY TOTAL_JOURNEYS_MILLIONS DESC;\n",
    " "
   ]
  },
  {
   "cell_type": "code",
   "execution_count": 44,
   "id": "7e021cbb-35c0-4b65-8b63-db04bae2861c",
   "metadata": {
    "collapsed": false,
    "customType": "sql",
    "dataFrameVariableName": "emirates_airline_popularity",
    "executionCancelledAt": null,
    "executionTime": 1886,
    "jupyter": {
     "outputs_hidden": false,
     "source_hidden": false
    },
    "lastExecutedAt": 1715325960251,
    "lastExecutedByKernel": "eb47b8d9-9f87-4dd2-a682-b5892212a28c",
    "lastScheduledRunId": null,
    "lastSuccessfullyExecutedCode": "-- emirates_airline_popularity\nSELECT MONTH, YEAR, ROUND(JOURNEYS_MILLIONS,2) AS ROUNDED_JOURNEYS_MILLIONS\nFROM TFL.JOURNEYS\nWHERE JOURNEY_TYPE = 'Emirates Airline' AND JOURNEYS_MILLIONS IS NOT NULL\nORDER BY ROUNDED_JOURNEYS_MILLIONS DESC\nLIMIT 5;",
    "outputsMetadata": {
     "0": {
      "height": 222,
      "type": "dataFrame"
     }
    },
    "sqlCellMode": "dataFrame",
    "sqlSource": {
     "integrationId": "e0c96696-ae0a-46fb-b6f9-1a43eb428ecb",
     "type": "integration"
    }
   },
   "outputs": [
    {
     "data": {
      "application/com.datacamp.data-table.v2+json": {
       "table": {
        "data": {
         "MONTH": [
          5,
          6,
          4,
          5,
          5
         ],
         "ROUNDED_JOURNEYS_MILLIONS": [
          0.53,
          0.38,
          0.24,
          0.19,
          0.19
         ],
         "YEAR": [
          2012,
          2012,
          2012,
          2013,
          2015
         ],
         "index": [
          0,
          1,
          2,
          3,
          4
         ]
        },
        "schema": {
         "fields": [
          {
           "name": "index",
           "type": "integer"
          },
          {
           "name": "MONTH",
           "type": "integer"
          },
          {
           "name": "YEAR",
           "type": "integer"
          },
          {
           "name": "ROUNDED_JOURNEYS_MILLIONS",
           "type": "number"
          }
         ],
         "pandas_version": "1.4.0",
         "primaryKey": [
          "index"
         ]
        }
       },
       "total_rows": 5,
       "truncation_type": null
      },
      "text/html": [
       "<div>\n",
       "<style scoped>\n",
       "    .dataframe tbody tr th:only-of-type {\n",
       "        vertical-align: middle;\n",
       "    }\n",
       "\n",
       "    .dataframe tbody tr th {\n",
       "        vertical-align: top;\n",
       "    }\n",
       "\n",
       "    .dataframe thead th {\n",
       "        text-align: right;\n",
       "    }\n",
       "</style>\n",
       "<table border=\"1\" class=\"dataframe\">\n",
       "  <thead>\n",
       "    <tr style=\"text-align: right;\">\n",
       "      <th></th>\n",
       "      <th>MONTH</th>\n",
       "      <th>YEAR</th>\n",
       "      <th>ROUNDED_JOURNEYS_MILLIONS</th>\n",
       "    </tr>\n",
       "  </thead>\n",
       "  <tbody>\n",
       "    <tr>\n",
       "      <th>0</th>\n",
       "      <td>5</td>\n",
       "      <td>2012</td>\n",
       "      <td>0.53</td>\n",
       "    </tr>\n",
       "    <tr>\n",
       "      <th>1</th>\n",
       "      <td>6</td>\n",
       "      <td>2012</td>\n",
       "      <td>0.38</td>\n",
       "    </tr>\n",
       "    <tr>\n",
       "      <th>2</th>\n",
       "      <td>4</td>\n",
       "      <td>2012</td>\n",
       "      <td>0.24</td>\n",
       "    </tr>\n",
       "    <tr>\n",
       "      <th>3</th>\n",
       "      <td>5</td>\n",
       "      <td>2013</td>\n",
       "      <td>0.19</td>\n",
       "    </tr>\n",
       "    <tr>\n",
       "      <th>4</th>\n",
       "      <td>5</td>\n",
       "      <td>2015</td>\n",
       "      <td>0.19</td>\n",
       "    </tr>\n",
       "  </tbody>\n",
       "</table>\n",
       "</div>"
      ],
      "text/plain": [
       "   MONTH  YEAR  ROUNDED_JOURNEYS_MILLIONS\n",
       "0      5  2012                       0.53\n",
       "1      6  2012                       0.38\n",
       "2      4  2012                       0.24\n",
       "3      5  2013                       0.19\n",
       "4      5  2015                       0.19"
      ]
     },
     "execution_count": 44,
     "metadata": {},
     "output_type": "execute_result"
    }
   ],
   "source": [
    "-- emirates_airline_popularity\n",
    "SELECT MONTH, YEAR, ROUND(JOURNEYS_MILLIONS,2) AS ROUNDED_JOURNEYS_MILLIONS\n",
    "FROM TFL.JOURNEYS\n",
    "WHERE JOURNEY_TYPE = 'Emirates Airline' AND JOURNEYS_MILLIONS IS NOT NULL\n",
    "ORDER BY ROUNDED_JOURNEYS_MILLIONS DESC\n",
    "LIMIT 5;"
   ]
  },
  {
   "cell_type": "code",
   "execution_count": 45,
   "id": "ed4c5893-aa2e-469d-99e9-8eb2fc5ccc43",
   "metadata": {
    "customType": "sql",
    "dataFrameVariableName": "least_popular_years_tube",
    "executionCancelledAt": null,
    "executionTime": 3933,
    "lastExecutedAt": 1715325964184,
    "lastExecutedByKernel": "eb47b8d9-9f87-4dd2-a682-b5892212a28c",
    "lastScheduledRunId": null,
    "lastSuccessfullyExecutedCode": "-- least_popular_years_tube\nSELECT YEAR, JOURNEY_TYPE, SUM(JOURNEYS_MILLIONS) AS TOTAL_JOURNEYS_MILLIONS\nFROM TFL.JOURNEYS\nWHERE JOURNEY_TYPE = 'Underground & DLR'\nGROUP BY ALL\nORDER BY TOTAL_JOURNEYS_MILLIONS ASC\nLIMIT 5",
    "outputsMetadata": {
     "0": {
      "height": 222,
      "type": "dataFrame"
     }
    },
    "sqlCellMode": "dataFrame",
    "sqlSource": {
     "integrationId": "e0c96696-ae0a-46fb-b6f9-1a43eb428ecb",
     "type": "integration"
    }
   },
   "outputs": [
    {
     "data": {
      "application/com.datacamp.data-table.v2+json": {
       "table": {
        "data": {
         "JOURNEY_TYPE": [
          "Underground & DLR",
          "Underground & DLR",
          "Underground & DLR",
          "Underground & DLR",
          "Underground & DLR"
         ],
         "TOTAL_JOURNEYS_MILLIONS": [
          310.179316314,
          748.4525442,
          1064.8590086,
          1096.14558838,
          1156.64765448
         ],
         "YEAR": [
          2020,
          2021,
          2022,
          2010,
          2011
         ],
         "index": [
          0,
          1,
          2,
          3,
          4
         ]
        },
        "schema": {
         "fields": [
          {
           "name": "index",
           "type": "integer"
          },
          {
           "name": "YEAR",
           "type": "integer"
          },
          {
           "name": "JOURNEY_TYPE",
           "type": "string"
          },
          {
           "name": "TOTAL_JOURNEYS_MILLIONS",
           "type": "number"
          }
         ],
         "pandas_version": "1.4.0",
         "primaryKey": [
          "index"
         ]
        }
       },
       "total_rows": 5,
       "truncation_type": null
      },
      "text/html": [
       "<div>\n",
       "<style scoped>\n",
       "    .dataframe tbody tr th:only-of-type {\n",
       "        vertical-align: middle;\n",
       "    }\n",
       "\n",
       "    .dataframe tbody tr th {\n",
       "        vertical-align: top;\n",
       "    }\n",
       "\n",
       "    .dataframe thead th {\n",
       "        text-align: right;\n",
       "    }\n",
       "</style>\n",
       "<table border=\"1\" class=\"dataframe\">\n",
       "  <thead>\n",
       "    <tr style=\"text-align: right;\">\n",
       "      <th></th>\n",
       "      <th>YEAR</th>\n",
       "      <th>JOURNEY_TYPE</th>\n",
       "      <th>TOTAL_JOURNEYS_MILLIONS</th>\n",
       "    </tr>\n",
       "  </thead>\n",
       "  <tbody>\n",
       "    <tr>\n",
       "      <th>0</th>\n",
       "      <td>2020</td>\n",
       "      <td>Underground &amp; DLR</td>\n",
       "      <td>310.179316</td>\n",
       "    </tr>\n",
       "    <tr>\n",
       "      <th>1</th>\n",
       "      <td>2021</td>\n",
       "      <td>Underground &amp; DLR</td>\n",
       "      <td>748.452544</td>\n",
       "    </tr>\n",
       "    <tr>\n",
       "      <th>2</th>\n",
       "      <td>2022</td>\n",
       "      <td>Underground &amp; DLR</td>\n",
       "      <td>1064.859009</td>\n",
       "    </tr>\n",
       "    <tr>\n",
       "      <th>3</th>\n",
       "      <td>2010</td>\n",
       "      <td>Underground &amp; DLR</td>\n",
       "      <td>1096.145588</td>\n",
       "    </tr>\n",
       "    <tr>\n",
       "      <th>4</th>\n",
       "      <td>2011</td>\n",
       "      <td>Underground &amp; DLR</td>\n",
       "      <td>1156.647654</td>\n",
       "    </tr>\n",
       "  </tbody>\n",
       "</table>\n",
       "</div>"
      ],
      "text/plain": [
       "   YEAR       JOURNEY_TYPE  TOTAL_JOURNEYS_MILLIONS\n",
       "0  2020  Underground & DLR               310.179316\n",
       "1  2021  Underground & DLR               748.452544\n",
       "2  2022  Underground & DLR              1064.859009\n",
       "3  2010  Underground & DLR              1096.145588\n",
       "4  2011  Underground & DLR              1156.647654"
      ]
     },
     "execution_count": 45,
     "metadata": {},
     "output_type": "execute_result"
    }
   ],
   "source": [
    "-- least_popular_years_tube\n",
    "SELECT YEAR, JOURNEY_TYPE, SUM(JOURNEYS_MILLIONS) AS TOTAL_JOURNEYS_MILLIONS\n",
    "FROM TFL.JOURNEYS\n",
    "WHERE JOURNEY_TYPE = 'Underground & DLR'\n",
    "GROUP BY ALL\n",
    "ORDER BY TOTAL_JOURNEYS_MILLIONS ASC\n",
    "LIMIT 5"
   ]
  }
 ],
 "metadata": {
  "colab": {
   "name": "Welcome to DataCamp Workspaces.ipynb",
   "provenance": []
  },
  "kernelspec": {
   "display_name": "Python 3 (ipykernel)",
   "language": "python",
   "name": "python3"
  },
  "language_info": {
   "codemirror_mode": {
    "name": "ipython",
    "version": 3
   },
   "file_extension": ".py",
   "mimetype": "text/x-python",
   "name": "python",
   "nbconvert_exporter": "python",
   "pygments_lexer": "ipython3",
   "version": "3.8.10"
  }
 },
 "nbformat": 4,
 "nbformat_minor": 5
}
